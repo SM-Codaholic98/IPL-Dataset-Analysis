{
 "cells": [
  {
   "cell_type": "code",
   "execution_count": 1,
   "metadata": {},
   "outputs": [],
   "source": [
    "import pandas as pd\n",
    "import seaborn as sns\n",
    "import numpy as np\n",
    "import matplotlib.pyplot as plt\n",
    "%matplotlib inline"
   ]
  },
  {
   "cell_type": "markdown",
   "metadata": {},
   "source": [
    "### 1) Loading the dataset onto a DataFrame\n",
    "### 2) Displaying first few records of the DataFrame"
   ]
  },
  {
   "cell_type": "code",
   "execution_count": 2,
   "metadata": {},
   "outputs": [
    {
     "data": {
      "text/html": [
       "<div>\n",
       "<style scoped>\n",
       "    .dataframe tbody tr th:only-of-type {\n",
       "        vertical-align: middle;\n",
       "    }\n",
       "\n",
       "    .dataframe tbody tr th {\n",
       "        vertical-align: top;\n",
       "    }\n",
       "\n",
       "    .dataframe thead th {\n",
       "        text-align: right;\n",
       "    }\n",
       "</style>\n",
       "<table border=\"1\" class=\"dataframe\">\n",
       "  <thead>\n",
       "    <tr style=\"text-align: right;\">\n",
       "      <th></th>\n",
       "      <th>Sl.NO.</th>\n",
       "      <th>PLAYER NAME</th>\n",
       "      <th>AGE</th>\n",
       "      <th>COUNTRY</th>\n",
       "      <th>TEAM</th>\n",
       "      <th>PLAYING ROLE</th>\n",
       "      <th>T-RUNS</th>\n",
       "      <th>T-WKTS</th>\n",
       "      <th>ODI-RUNS-S</th>\n",
       "      <th>ODI-SR-B</th>\n",
       "      <th>...</th>\n",
       "      <th>SR-B</th>\n",
       "      <th>SIXERS</th>\n",
       "      <th>RUNS-C</th>\n",
       "      <th>WKTS</th>\n",
       "      <th>AVE-BL</th>\n",
       "      <th>ECON</th>\n",
       "      <th>SR-BL</th>\n",
       "      <th>AUCTION YEAR</th>\n",
       "      <th>BASE PRICE</th>\n",
       "      <th>SOLD PRICE</th>\n",
       "    </tr>\n",
       "  </thead>\n",
       "  <tbody>\n",
       "    <tr>\n",
       "      <th>0</th>\n",
       "      <td>1</td>\n",
       "      <td>Abdulla, YA</td>\n",
       "      <td>2</td>\n",
       "      <td>SA</td>\n",
       "      <td>KXIP</td>\n",
       "      <td>Allrounder</td>\n",
       "      <td>0</td>\n",
       "      <td>0</td>\n",
       "      <td>0</td>\n",
       "      <td>0.00</td>\n",
       "      <td>...</td>\n",
       "      <td>0.00</td>\n",
       "      <td>0</td>\n",
       "      <td>307</td>\n",
       "      <td>15</td>\n",
       "      <td>20.47</td>\n",
       "      <td>8.90</td>\n",
       "      <td>13.93</td>\n",
       "      <td>2009</td>\n",
       "      <td>50000</td>\n",
       "      <td>50000</td>\n",
       "    </tr>\n",
       "    <tr>\n",
       "      <th>1</th>\n",
       "      <td>2</td>\n",
       "      <td>Abdur Razzak</td>\n",
       "      <td>2</td>\n",
       "      <td>BAN</td>\n",
       "      <td>RCB</td>\n",
       "      <td>Bowler</td>\n",
       "      <td>214</td>\n",
       "      <td>18</td>\n",
       "      <td>657</td>\n",
       "      <td>71.41</td>\n",
       "      <td>...</td>\n",
       "      <td>0.00</td>\n",
       "      <td>0</td>\n",
       "      <td>29</td>\n",
       "      <td>0</td>\n",
       "      <td>0.00</td>\n",
       "      <td>14.50</td>\n",
       "      <td>0.00</td>\n",
       "      <td>2008</td>\n",
       "      <td>50000</td>\n",
       "      <td>50000</td>\n",
       "    </tr>\n",
       "    <tr>\n",
       "      <th>2</th>\n",
       "      <td>3</td>\n",
       "      <td>Agarkar, AB</td>\n",
       "      <td>2</td>\n",
       "      <td>IND</td>\n",
       "      <td>KKR</td>\n",
       "      <td>Bowler</td>\n",
       "      <td>571</td>\n",
       "      <td>58</td>\n",
       "      <td>1269</td>\n",
       "      <td>80.62</td>\n",
       "      <td>...</td>\n",
       "      <td>121.01</td>\n",
       "      <td>5</td>\n",
       "      <td>1059</td>\n",
       "      <td>29</td>\n",
       "      <td>36.52</td>\n",
       "      <td>8.81</td>\n",
       "      <td>24.90</td>\n",
       "      <td>2008</td>\n",
       "      <td>200000</td>\n",
       "      <td>350000</td>\n",
       "    </tr>\n",
       "    <tr>\n",
       "      <th>3</th>\n",
       "      <td>4</td>\n",
       "      <td>Ashwin, R</td>\n",
       "      <td>1</td>\n",
       "      <td>IND</td>\n",
       "      <td>CSK</td>\n",
       "      <td>Bowler</td>\n",
       "      <td>284</td>\n",
       "      <td>31</td>\n",
       "      <td>241</td>\n",
       "      <td>84.56</td>\n",
       "      <td>...</td>\n",
       "      <td>76.32</td>\n",
       "      <td>0</td>\n",
       "      <td>1125</td>\n",
       "      <td>49</td>\n",
       "      <td>22.96</td>\n",
       "      <td>6.23</td>\n",
       "      <td>22.14</td>\n",
       "      <td>2011</td>\n",
       "      <td>100000</td>\n",
       "      <td>850000</td>\n",
       "    </tr>\n",
       "    <tr>\n",
       "      <th>4</th>\n",
       "      <td>5</td>\n",
       "      <td>Badrinath, S</td>\n",
       "      <td>2</td>\n",
       "      <td>IND</td>\n",
       "      <td>CSK</td>\n",
       "      <td>Batsman</td>\n",
       "      <td>63</td>\n",
       "      <td>0</td>\n",
       "      <td>79</td>\n",
       "      <td>45.93</td>\n",
       "      <td>...</td>\n",
       "      <td>120.71</td>\n",
       "      <td>28</td>\n",
       "      <td>0</td>\n",
       "      <td>0</td>\n",
       "      <td>0.00</td>\n",
       "      <td>0.00</td>\n",
       "      <td>0.00</td>\n",
       "      <td>2011</td>\n",
       "      <td>100000</td>\n",
       "      <td>800000</td>\n",
       "    </tr>\n",
       "  </tbody>\n",
       "</table>\n",
       "<p>5 rows × 26 columns</p>\n",
       "</div>"
      ],
      "text/plain": [
       "   Sl.NO.   PLAYER NAME  AGE COUNTRY  TEAM PLAYING ROLE  T-RUNS  T-WKTS  \\\n",
       "0       1   Abdulla, YA    2      SA  KXIP   Allrounder       0       0   \n",
       "1       2  Abdur Razzak    2     BAN   RCB       Bowler     214      18   \n",
       "2       3   Agarkar, AB    2     IND   KKR       Bowler     571      58   \n",
       "3       4     Ashwin, R    1     IND   CSK       Bowler     284      31   \n",
       "4       5  Badrinath, S    2     IND   CSK      Batsman      63       0   \n",
       "\n",
       "   ODI-RUNS-S  ODI-SR-B  ...    SR-B  SIXERS  RUNS-C  WKTS  AVE-BL   ECON  \\\n",
       "0           0      0.00  ...    0.00       0     307    15   20.47   8.90   \n",
       "1         657     71.41  ...    0.00       0      29     0    0.00  14.50   \n",
       "2        1269     80.62  ...  121.01       5    1059    29   36.52   8.81   \n",
       "3         241     84.56  ...   76.32       0    1125    49   22.96   6.23   \n",
       "4          79     45.93  ...  120.71      28       0     0    0.00   0.00   \n",
       "\n",
       "   SR-BL  AUCTION YEAR  BASE PRICE  SOLD PRICE  \n",
       "0  13.93          2009       50000       50000  \n",
       "1   0.00          2008       50000       50000  \n",
       "2  24.90          2008      200000      350000  \n",
       "3  22.14          2011      100000      850000  \n",
       "4   0.00          2011      100000      800000  \n",
       "\n",
       "[5 rows x 26 columns]"
      ]
     },
     "execution_count": 2,
     "metadata": {},
     "output_type": "execute_result"
    }
   ],
   "source": [
    "df = pd.read_csv(\"IPL IMB381IPL2013.csv\")\n",
    "df.head()"
   ]
  },
  {
   "cell_type": "markdown",
   "metadata": {},
   "source": [
    "### 3) Finding metadata of the DataFrame"
   ]
  },
  {
   "cell_type": "code",
   "execution_count": 3,
   "metadata": {},
   "outputs": [
    {
     "data": {
      "text/plain": [
       "Sl.NO.             int64\n",
       "PLAYER NAME       object\n",
       "AGE                int64\n",
       "COUNTRY           object\n",
       "TEAM              object\n",
       "PLAYING ROLE      object\n",
       "T-RUNS             int64\n",
       "T-WKTS             int64\n",
       "ODI-RUNS-S         int64\n",
       "ODI-SR-B         float64\n",
       "ODI-WKTS           int64\n",
       "ODI-SR-BL        float64\n",
       "CAPTAINCY EXP      int64\n",
       "RUNS-S             int64\n",
       "HS                 int64\n",
       "AVE              float64\n",
       "SR-B             float64\n",
       "SIXERS             int64\n",
       "RUNS-C             int64\n",
       "WKTS               int64\n",
       "AVE-BL           float64\n",
       "ECON             float64\n",
       "SR-BL            float64\n",
       "AUCTION YEAR       int64\n",
       "BASE PRICE         int64\n",
       "SOLD PRICE         int64\n",
       "dtype: object"
      ]
     },
     "execution_count": 3,
     "metadata": {},
     "output_type": "execute_result"
    }
   ],
   "source": [
    "df.dtypes"
   ]
  },
  {
   "cell_type": "code",
   "execution_count": 4,
   "metadata": {},
   "outputs": [
    {
     "data": {
      "text/plain": [
       "(130, 26)"
      ]
     },
     "execution_count": 4,
     "metadata": {},
     "output_type": "execute_result"
    }
   ],
   "source": [
    "df.shape"
   ]
  },
  {
   "cell_type": "code",
   "execution_count": 5,
   "metadata": {},
   "outputs": [
    {
     "name": "stdout",
     "output_type": "stream",
     "text": [
      "<class 'pandas.core.frame.DataFrame'>\n",
      "RangeIndex: 130 entries, 0 to 129\n",
      "Data columns (total 26 columns):\n",
      " #   Column         Non-Null Count  Dtype  \n",
      "---  ------         --------------  -----  \n",
      " 0   Sl.NO.         130 non-null    int64  \n",
      " 1   PLAYER NAME    130 non-null    object \n",
      " 2   AGE            130 non-null    int64  \n",
      " 3   COUNTRY        130 non-null    object \n",
      " 4   TEAM           130 non-null    object \n",
      " 5   PLAYING ROLE   130 non-null    object \n",
      " 6   T-RUNS         130 non-null    int64  \n",
      " 7   T-WKTS         130 non-null    int64  \n",
      " 8   ODI-RUNS-S     130 non-null    int64  \n",
      " 9   ODI-SR-B       130 non-null    float64\n",
      " 10  ODI-WKTS       130 non-null    int64  \n",
      " 11  ODI-SR-BL      130 non-null    float64\n",
      " 12  CAPTAINCY EXP  130 non-null    int64  \n",
      " 13  RUNS-S         130 non-null    int64  \n",
      " 14  HS             130 non-null    int64  \n",
      " 15  AVE            130 non-null    float64\n",
      " 16  SR-B           130 non-null    float64\n",
      " 17  SIXERS         130 non-null    int64  \n",
      " 18  RUNS-C         130 non-null    int64  \n",
      " 19  WKTS           130 non-null    int64  \n",
      " 20  AVE-BL         130 non-null    float64\n",
      " 21  ECON           130 non-null    float64\n",
      " 22  SR-BL          130 non-null    float64\n",
      " 23  AUCTION YEAR   130 non-null    int64  \n",
      " 24  BASE PRICE     130 non-null    int64  \n",
      " 25  SOLD PRICE     130 non-null    int64  \n",
      "dtypes: float64(7), int64(15), object(4)\n",
      "memory usage: 26.5+ KB\n"
     ]
    }
   ],
   "source": [
    "df.info()"
   ]
  },
  {
   "cell_type": "code",
   "execution_count": 6,
   "metadata": {},
   "outputs": [
    {
     "data": {
      "text/plain": [
       "Index(['Sl.NO.', 'PLAYER NAME', 'AGE', 'COUNTRY', 'TEAM', 'PLAYING ROLE',\n",
       "       'T-RUNS', 'T-WKTS', 'ODI-RUNS-S', 'ODI-SR-B', 'ODI-WKTS', 'ODI-SR-BL',\n",
       "       'CAPTAINCY EXP', 'RUNS-S', 'HS', 'AVE', 'SR-B', 'SIXERS', 'RUNS-C',\n",
       "       'WKTS', 'AVE-BL', 'ECON', 'SR-BL', 'AUCTION YEAR', 'BASE PRICE',\n",
       "       'SOLD PRICE'],\n",
       "      dtype='object')"
      ]
     },
     "execution_count": 6,
     "metadata": {},
     "output_type": "execute_result"
    }
   ],
   "source": [
    "df.columns"
   ]
  },
  {
   "cell_type": "code",
   "execution_count": 7,
   "metadata": {},
   "outputs": [
    {
     "data": {
      "text/plain": [
       "RangeIndex(start=0, stop=130, step=1)"
      ]
     },
     "execution_count": 7,
     "metadata": {},
     "output_type": "execute_result"
    }
   ],
   "source": [
    "df.index"
   ]
  },
  {
   "cell_type": "code",
   "execution_count": 8,
   "metadata": {},
   "outputs": [
    {
     "data": {
      "text/plain": [
       "Sl.NO.           0\n",
       "PLAYER NAME      0\n",
       "AGE              0\n",
       "COUNTRY          0\n",
       "TEAM             0\n",
       "PLAYING ROLE     0\n",
       "T-RUNS           0\n",
       "T-WKTS           0\n",
       "ODI-RUNS-S       0\n",
       "ODI-SR-B         0\n",
       "ODI-WKTS         0\n",
       "ODI-SR-BL        0\n",
       "CAPTAINCY EXP    0\n",
       "RUNS-S           0\n",
       "HS               0\n",
       "AVE              0\n",
       "SR-B             0\n",
       "SIXERS           0\n",
       "RUNS-C           0\n",
       "WKTS             0\n",
       "AVE-BL           0\n",
       "ECON             0\n",
       "SR-BL            0\n",
       "AUCTION YEAR     0\n",
       "BASE PRICE       0\n",
       "SOLD PRICE       0\n",
       "dtype: int64"
      ]
     },
     "execution_count": 8,
     "metadata": {},
     "output_type": "execute_result"
    }
   ],
   "source": [
    "df.isnull().sum()"
   ]
  },
  {
   "cell_type": "markdown",
   "metadata": {},
   "source": [
    "### 4) Finding Summary of the DataFrame"
   ]
  },
  {
   "cell_type": "code",
   "execution_count": 9,
   "metadata": {},
   "outputs": [
    {
     "data": {
      "text/plain": [
       "Sl.NO.           130\n",
       "PLAYER NAME      130\n",
       "AGE              130\n",
       "COUNTRY          130\n",
       "TEAM             130\n",
       "PLAYING ROLE     130\n",
       "T-RUNS           130\n",
       "T-WKTS           130\n",
       "ODI-RUNS-S       130\n",
       "ODI-SR-B         130\n",
       "ODI-WKTS         130\n",
       "ODI-SR-BL        130\n",
       "CAPTAINCY EXP    130\n",
       "RUNS-S           130\n",
       "HS               130\n",
       "AVE              130\n",
       "SR-B             130\n",
       "SIXERS           130\n",
       "RUNS-C           130\n",
       "WKTS             130\n",
       "AVE-BL           130\n",
       "ECON             130\n",
       "SR-BL            130\n",
       "AUCTION YEAR     130\n",
       "BASE PRICE       130\n",
       "SOLD PRICE       130\n",
       "dtype: int64"
      ]
     },
     "execution_count": 9,
     "metadata": {},
     "output_type": "execute_result"
    }
   ],
   "source": [
    "df.count()"
   ]
  },
  {
   "cell_type": "code",
   "execution_count": 10,
   "metadata": {},
   "outputs": [
    {
     "data": {
      "text/plain": [
       "AGE                   2.092308\n",
       "T-RUNS             2166.715385\n",
       "T-WKTS               66.530769\n",
       "ODI-RUNS-S         2508.738462\n",
       "ODI-SR-B             71.164385\n",
       "ODI-WKTS             76.076923\n",
       "ODI-SR-BL            34.033846\n",
       "CAPTAINCY EXP         0.315385\n",
       "RUNS-S              514.246154\n",
       "HS                   47.430769\n",
       "AVE                  18.719308\n",
       "SR-B                111.053462\n",
       "SIXERS               17.692308\n",
       "RUNS-C              475.523077\n",
       "WKTS                 17.169231\n",
       "AVE-BL               23.110231\n",
       "ECON                  6.204462\n",
       "SR-BL                17.382615\n",
       "AUCTION YEAR       2009.092308\n",
       "BASE PRICE       192230.769231\n",
       "SOLD PRICE       521223.076923\n",
       "dtype: float64"
      ]
     },
     "execution_count": 10,
     "metadata": {},
     "output_type": "execute_result"
    }
   ],
   "source": [
    "df.select_dtypes(include='number').mean()[1:]"
   ]
  },
  {
   "cell_type": "code",
   "execution_count": 11,
   "metadata": {},
   "outputs": [
    {
     "data": {
      "text/plain": [
       "AGE                   2.000\n",
       "T-RUNS              542.500\n",
       "T-WKTS                7.000\n",
       "ODI-RUNS-S          835.000\n",
       "ODI-SR-B             78.225\n",
       "ODI-WKTS             18.500\n",
       "ODI-SR-BL            36.600\n",
       "CAPTAINCY EXP         0.000\n",
       "RUNS-S              172.000\n",
       "HS                   35.500\n",
       "AVE                  18.635\n",
       "SR-B                118.510\n",
       "SIXERS                6.000\n",
       "RUNS-C              297.000\n",
       "WKTS                  8.500\n",
       "AVE-BL               24.785\n",
       "ECON                  7.380\n",
       "SR-BL                19.935\n",
       "AUCTION YEAR       2008.000\n",
       "BASE PRICE       200000.000\n",
       "SOLD PRICE       437500.000\n",
       "dtype: float64"
      ]
     },
     "execution_count": 11,
     "metadata": {},
     "output_type": "execute_result"
    }
   ],
   "source": [
    "df.select_dtypes(include='number').median()[1:]"
   ]
  },
  {
   "cell_type": "code",
   "execution_count": 12,
   "metadata": {},
   "outputs": [
    {
     "data": {
      "text/plain": [
       "AGE                   0.576627\n",
       "T-RUNS             3305.646757\n",
       "T-WKTS              142.676855\n",
       "ODI-RUNS-S         3582.205625\n",
       "ODI-SR-B             25.898440\n",
       "ODI-WKTS            111.205070\n",
       "ODI-SR-BL            26.751749\n",
       "CAPTAINCY EXP         0.466466\n",
       "RUNS-S              615.226335\n",
       "HS                   36.403624\n",
       "AVE                  11.094224\n",
       "SR-B                 35.928907\n",
       "SIXERS               23.828146\n",
       "RUNS-C              558.314049\n",
       "WKTS                 21.816763\n",
       "AVE-BL               20.802057\n",
       "ECON                  4.941531\n",
       "SR-BL                15.273422\n",
       "AUCTION YEAR          1.377821\n",
       "BASE PRICE       153097.300897\n",
       "SOLD PRICE       406807.351419\n",
       "dtype: float64"
      ]
     },
     "execution_count": 12,
     "metadata": {},
     "output_type": "execute_result"
    }
   ],
   "source": [
    "df.select_dtypes(include='number').std()[1:]"
   ]
  },
  {
   "cell_type": "code",
   "execution_count": 13,
   "metadata": {},
   "outputs": [
    {
     "data": {
      "text/plain": [
       "AGE                  1.0\n",
       "T-RUNS               0.0\n",
       "T-WKTS               0.0\n",
       "ODI-RUNS-S           0.0\n",
       "ODI-SR-B             0.0\n",
       "ODI-WKTS             0.0\n",
       "ODI-SR-BL            0.0\n",
       "CAPTAINCY EXP        0.0\n",
       "RUNS-S               0.0\n",
       "HS                   0.0\n",
       "AVE                  0.0\n",
       "SR-B                 0.0\n",
       "SIXERS               0.0\n",
       "RUNS-C               0.0\n",
       "WKTS                 0.0\n",
       "AVE-BL               0.0\n",
       "ECON                 0.0\n",
       "SR-BL                0.0\n",
       "AUCTION YEAR      2008.0\n",
       "BASE PRICE       20000.0\n",
       "SOLD PRICE       20000.0\n",
       "dtype: float64"
      ]
     },
     "execution_count": 13,
     "metadata": {},
     "output_type": "execute_result"
    }
   ],
   "source": [
    "df.select_dtypes(include='number').min()[1:]"
   ]
  },
  {
   "cell_type": "code",
   "execution_count": 14,
   "metadata": {},
   "outputs": [
    {
     "data": {
      "text/plain": [
       "AGE                    3.00\n",
       "T-RUNS             15470.00\n",
       "T-WKTS               800.00\n",
       "ODI-RUNS-S         18426.00\n",
       "ODI-SR-B             116.66\n",
       "ODI-WKTS             534.00\n",
       "ODI-SR-BL            150.00\n",
       "CAPTAINCY EXP          1.00\n",
       "RUNS-S              2254.00\n",
       "HS                   158.00\n",
       "AVE                   50.11\n",
       "SR-B                 235.49\n",
       "SIXERS               129.00\n",
       "RUNS-C              1975.00\n",
       "WKTS                  83.00\n",
       "AVE-BL               126.30\n",
       "ECON                  38.11\n",
       "SR-BL                100.20\n",
       "AUCTION YEAR        2011.00\n",
       "BASE PRICE       1350000.00\n",
       "SOLD PRICE       1800000.00\n",
       "dtype: float64"
      ]
     },
     "execution_count": 14,
     "metadata": {},
     "output_type": "execute_result"
    }
   ],
   "source": [
    "df.select_dtypes(include='number').max()[1:]"
   ]
  },
  {
   "cell_type": "code",
   "execution_count": 15,
   "metadata": {},
   "outputs": [
    {
     "data": {
      "text/plain": [
       "AGE                   2.0000\n",
       "T-RUNS               25.5000\n",
       "T-WKTS                0.0000\n",
       "ODI-RUNS-S           73.2500\n",
       "ODI-SR-B             65.6500\n",
       "ODI-WKTS              0.0000\n",
       "ODI-SR-BL             0.0000\n",
       "CAPTAINCY EXP         0.0000\n",
       "RUNS-S               39.0000\n",
       "HS                   16.0000\n",
       "AVE                   9.8250\n",
       "SR-B                 98.2375\n",
       "SIXERS                1.0000\n",
       "RUNS-C                0.0000\n",
       "WKTS                  0.0000\n",
       "AVE-BL                0.0000\n",
       "ECON                  0.0000\n",
       "SR-BL                 0.0000\n",
       "AUCTION YEAR       2008.0000\n",
       "BASE PRICE       100000.0000\n",
       "SOLD PRICE       225000.0000\n",
       "Name: 0.25, dtype: float64"
      ]
     },
     "execution_count": 15,
     "metadata": {},
     "output_type": "execute_result"
    }
   ],
   "source": [
    "df.select_dtypes(include='number').quantile(0.25)[1:]"
   ]
  },
  {
   "cell_type": "code",
   "execution_count": 16,
   "metadata": {},
   "outputs": [
    {
     "data": {
      "text/plain": [
       "AGE                   2.000\n",
       "T-RUNS              542.500\n",
       "T-WKTS                7.000\n",
       "ODI-RUNS-S          835.000\n",
       "ODI-SR-B             78.225\n",
       "ODI-WKTS             18.500\n",
       "ODI-SR-BL            36.600\n",
       "CAPTAINCY EXP         0.000\n",
       "RUNS-S              172.000\n",
       "HS                   35.500\n",
       "AVE                  18.635\n",
       "SR-B                118.510\n",
       "SIXERS                6.000\n",
       "RUNS-C              297.000\n",
       "WKTS                  8.500\n",
       "AVE-BL               24.785\n",
       "ECON                  7.380\n",
       "SR-BL                19.935\n",
       "AUCTION YEAR       2008.000\n",
       "BASE PRICE       200000.000\n",
       "SOLD PRICE       437500.000\n",
       "Name: 0.5, dtype: float64"
      ]
     },
     "execution_count": 16,
     "metadata": {},
     "output_type": "execute_result"
    }
   ],
   "source": [
    "df.select_dtypes(include='number').quantile(0.5)[1:]"
   ]
  },
  {
   "cell_type": "code",
   "execution_count": 17,
   "metadata": {},
   "outputs": [
    {
     "data": {
      "text/plain": [
       "AGE                   2.0000\n",
       "T-RUNS             3002.2500\n",
       "T-WKTS               47.5000\n",
       "ODI-RUNS-S         3523.5000\n",
       "ODI-SR-B             86.7900\n",
       "ODI-WKTS            106.0000\n",
       "ODI-SR-BL            45.3250\n",
       "CAPTAINCY EXP         1.0000\n",
       "RUNS-S              925.2500\n",
       "HS                   73.7500\n",
       "AVE                  27.8725\n",
       "SR-B                129.1025\n",
       "SIXERS               29.7500\n",
       "RUNS-C              689.2500\n",
       "WKTS                 23.7500\n",
       "AVE-BL               35.5800\n",
       "ECON                  8.2475\n",
       "SR-BL                26.2125\n",
       "AUCTION YEAR       2011.0000\n",
       "BASE PRICE       225000.0000\n",
       "SOLD PRICE       700000.0000\n",
       "Name: 0.75, dtype: float64"
      ]
     },
     "execution_count": 17,
     "metadata": {},
     "output_type": "execute_result"
    }
   ],
   "source": [
    "df.select_dtypes(include='number').quantile(0.75)[1:]"
   ]
  },
  {
   "cell_type": "code",
   "execution_count": 18,
   "metadata": {},
   "outputs": [
    {
     "data": {
      "text/html": [
       "<div>\n",
       "<style scoped>\n",
       "    .dataframe tbody tr th:only-of-type {\n",
       "        vertical-align: middle;\n",
       "    }\n",
       "\n",
       "    .dataframe tbody tr th {\n",
       "        vertical-align: top;\n",
       "    }\n",
       "\n",
       "    .dataframe thead th {\n",
       "        text-align: right;\n",
       "    }\n",
       "</style>\n",
       "<table border=\"1\" class=\"dataframe\">\n",
       "  <thead>\n",
       "    <tr style=\"text-align: right;\">\n",
       "      <th></th>\n",
       "      <th>PLAYER NAME</th>\n",
       "      <th>COUNTRY</th>\n",
       "      <th>TEAM</th>\n",
       "      <th>PLAYING ROLE</th>\n",
       "    </tr>\n",
       "  </thead>\n",
       "  <tbody>\n",
       "    <tr>\n",
       "      <th>count</th>\n",
       "      <td>130</td>\n",
       "      <td>130</td>\n",
       "      <td>130</td>\n",
       "      <td>130</td>\n",
       "    </tr>\n",
       "    <tr>\n",
       "      <th>unique</th>\n",
       "      <td>130</td>\n",
       "      <td>10</td>\n",
       "      <td>17</td>\n",
       "      <td>4</td>\n",
       "    </tr>\n",
       "    <tr>\n",
       "      <th>top</th>\n",
       "      <td>Abdulla, YA</td>\n",
       "      <td>IND</td>\n",
       "      <td>CSK</td>\n",
       "      <td>Bowler</td>\n",
       "    </tr>\n",
       "    <tr>\n",
       "      <th>freq</th>\n",
       "      <td>1</td>\n",
       "      <td>53</td>\n",
       "      <td>14</td>\n",
       "      <td>44</td>\n",
       "    </tr>\n",
       "  </tbody>\n",
       "</table>\n",
       "</div>"
      ],
      "text/plain": [
       "        PLAYER NAME COUNTRY TEAM PLAYING ROLE\n",
       "count           130     130  130          130\n",
       "unique          130      10   17            4\n",
       "top     Abdulla, YA     IND  CSK       Bowler\n",
       "freq              1      53   14           44"
      ]
     },
     "execution_count": 18,
     "metadata": {},
     "output_type": "execute_result"
    }
   ],
   "source": [
    "df.describe(include='object')"
   ]
  },
  {
   "cell_type": "code",
   "execution_count": 19,
   "metadata": {},
   "outputs": [
    {
     "data": {
      "text/html": [
       "<div>\n",
       "<style scoped>\n",
       "    .dataframe tbody tr th:only-of-type {\n",
       "        vertical-align: middle;\n",
       "    }\n",
       "\n",
       "    .dataframe tbody tr th {\n",
       "        vertical-align: top;\n",
       "    }\n",
       "\n",
       "    .dataframe thead th {\n",
       "        text-align: right;\n",
       "    }\n",
       "</style>\n",
       "<table border=\"1\" class=\"dataframe\">\n",
       "  <thead>\n",
       "    <tr style=\"text-align: right;\">\n",
       "      <th></th>\n",
       "      <th>Sl.NO.</th>\n",
       "      <th>AGE</th>\n",
       "      <th>T-RUNS</th>\n",
       "      <th>T-WKTS</th>\n",
       "      <th>ODI-RUNS-S</th>\n",
       "      <th>ODI-SR-B</th>\n",
       "      <th>ODI-WKTS</th>\n",
       "      <th>ODI-SR-BL</th>\n",
       "      <th>CAPTAINCY EXP</th>\n",
       "      <th>RUNS-S</th>\n",
       "      <th>...</th>\n",
       "      <th>SR-B</th>\n",
       "      <th>SIXERS</th>\n",
       "      <th>RUNS-C</th>\n",
       "      <th>WKTS</th>\n",
       "      <th>AVE-BL</th>\n",
       "      <th>ECON</th>\n",
       "      <th>SR-BL</th>\n",
       "      <th>AUCTION YEAR</th>\n",
       "      <th>BASE PRICE</th>\n",
       "      <th>SOLD PRICE</th>\n",
       "    </tr>\n",
       "  </thead>\n",
       "  <tbody>\n",
       "    <tr>\n",
       "      <th>count</th>\n",
       "      <td>130.000000</td>\n",
       "      <td>130.000000</td>\n",
       "      <td>130.000000</td>\n",
       "      <td>130.000000</td>\n",
       "      <td>130.000000</td>\n",
       "      <td>130.000000</td>\n",
       "      <td>130.000000</td>\n",
       "      <td>130.000000</td>\n",
       "      <td>130.000000</td>\n",
       "      <td>130.000000</td>\n",
       "      <td>...</td>\n",
       "      <td>130.000000</td>\n",
       "      <td>130.000000</td>\n",
       "      <td>130.000000</td>\n",
       "      <td>130.000000</td>\n",
       "      <td>130.000000</td>\n",
       "      <td>130.000000</td>\n",
       "      <td>130.000000</td>\n",
       "      <td>130.000000</td>\n",
       "      <td>1.300000e+02</td>\n",
       "      <td>1.300000e+02</td>\n",
       "    </tr>\n",
       "    <tr>\n",
       "      <th>mean</th>\n",
       "      <td>65.500000</td>\n",
       "      <td>2.092308</td>\n",
       "      <td>2166.715385</td>\n",
       "      <td>66.530769</td>\n",
       "      <td>2508.738462</td>\n",
       "      <td>71.164385</td>\n",
       "      <td>76.076923</td>\n",
       "      <td>34.033846</td>\n",
       "      <td>0.315385</td>\n",
       "      <td>514.246154</td>\n",
       "      <td>...</td>\n",
       "      <td>111.053462</td>\n",
       "      <td>17.692308</td>\n",
       "      <td>475.523077</td>\n",
       "      <td>17.169231</td>\n",
       "      <td>23.110231</td>\n",
       "      <td>6.204462</td>\n",
       "      <td>17.382615</td>\n",
       "      <td>2009.092308</td>\n",
       "      <td>1.922308e+05</td>\n",
       "      <td>5.212231e+05</td>\n",
       "    </tr>\n",
       "    <tr>\n",
       "      <th>std</th>\n",
       "      <td>37.671829</td>\n",
       "      <td>0.576627</td>\n",
       "      <td>3305.646757</td>\n",
       "      <td>142.676855</td>\n",
       "      <td>3582.205625</td>\n",
       "      <td>25.898440</td>\n",
       "      <td>111.205070</td>\n",
       "      <td>26.751749</td>\n",
       "      <td>0.466466</td>\n",
       "      <td>615.226335</td>\n",
       "      <td>...</td>\n",
       "      <td>35.928907</td>\n",
       "      <td>23.828146</td>\n",
       "      <td>558.314049</td>\n",
       "      <td>21.816763</td>\n",
       "      <td>20.802057</td>\n",
       "      <td>4.941531</td>\n",
       "      <td>15.273422</td>\n",
       "      <td>1.377821</td>\n",
       "      <td>1.530973e+05</td>\n",
       "      <td>4.068074e+05</td>\n",
       "    </tr>\n",
       "    <tr>\n",
       "      <th>min</th>\n",
       "      <td>1.000000</td>\n",
       "      <td>1.000000</td>\n",
       "      <td>0.000000</td>\n",
       "      <td>0.000000</td>\n",
       "      <td>0.000000</td>\n",
       "      <td>0.000000</td>\n",
       "      <td>0.000000</td>\n",
       "      <td>0.000000</td>\n",
       "      <td>0.000000</td>\n",
       "      <td>0.000000</td>\n",
       "      <td>...</td>\n",
       "      <td>0.000000</td>\n",
       "      <td>0.000000</td>\n",
       "      <td>0.000000</td>\n",
       "      <td>0.000000</td>\n",
       "      <td>0.000000</td>\n",
       "      <td>0.000000</td>\n",
       "      <td>0.000000</td>\n",
       "      <td>2008.000000</td>\n",
       "      <td>2.000000e+04</td>\n",
       "      <td>2.000000e+04</td>\n",
       "    </tr>\n",
       "    <tr>\n",
       "      <th>25%</th>\n",
       "      <td>33.250000</td>\n",
       "      <td>2.000000</td>\n",
       "      <td>25.500000</td>\n",
       "      <td>0.000000</td>\n",
       "      <td>73.250000</td>\n",
       "      <td>65.650000</td>\n",
       "      <td>0.000000</td>\n",
       "      <td>0.000000</td>\n",
       "      <td>0.000000</td>\n",
       "      <td>39.000000</td>\n",
       "      <td>...</td>\n",
       "      <td>98.237500</td>\n",
       "      <td>1.000000</td>\n",
       "      <td>0.000000</td>\n",
       "      <td>0.000000</td>\n",
       "      <td>0.000000</td>\n",
       "      <td>0.000000</td>\n",
       "      <td>0.000000</td>\n",
       "      <td>2008.000000</td>\n",
       "      <td>1.000000e+05</td>\n",
       "      <td>2.250000e+05</td>\n",
       "    </tr>\n",
       "    <tr>\n",
       "      <th>50%</th>\n",
       "      <td>65.500000</td>\n",
       "      <td>2.000000</td>\n",
       "      <td>542.500000</td>\n",
       "      <td>7.000000</td>\n",
       "      <td>835.000000</td>\n",
       "      <td>78.225000</td>\n",
       "      <td>18.500000</td>\n",
       "      <td>36.600000</td>\n",
       "      <td>0.000000</td>\n",
       "      <td>172.000000</td>\n",
       "      <td>...</td>\n",
       "      <td>118.510000</td>\n",
       "      <td>6.000000</td>\n",
       "      <td>297.000000</td>\n",
       "      <td>8.500000</td>\n",
       "      <td>24.785000</td>\n",
       "      <td>7.380000</td>\n",
       "      <td>19.935000</td>\n",
       "      <td>2008.000000</td>\n",
       "      <td>2.000000e+05</td>\n",
       "      <td>4.375000e+05</td>\n",
       "    </tr>\n",
       "    <tr>\n",
       "      <th>75%</th>\n",
       "      <td>97.750000</td>\n",
       "      <td>2.000000</td>\n",
       "      <td>3002.250000</td>\n",
       "      <td>47.500000</td>\n",
       "      <td>3523.500000</td>\n",
       "      <td>86.790000</td>\n",
       "      <td>106.000000</td>\n",
       "      <td>45.325000</td>\n",
       "      <td>1.000000</td>\n",
       "      <td>925.250000</td>\n",
       "      <td>...</td>\n",
       "      <td>129.102500</td>\n",
       "      <td>29.750000</td>\n",
       "      <td>689.250000</td>\n",
       "      <td>23.750000</td>\n",
       "      <td>35.580000</td>\n",
       "      <td>8.247500</td>\n",
       "      <td>26.212500</td>\n",
       "      <td>2011.000000</td>\n",
       "      <td>2.250000e+05</td>\n",
       "      <td>7.000000e+05</td>\n",
       "    </tr>\n",
       "    <tr>\n",
       "      <th>max</th>\n",
       "      <td>130.000000</td>\n",
       "      <td>3.000000</td>\n",
       "      <td>15470.000000</td>\n",
       "      <td>800.000000</td>\n",
       "      <td>18426.000000</td>\n",
       "      <td>116.660000</td>\n",
       "      <td>534.000000</td>\n",
       "      <td>150.000000</td>\n",
       "      <td>1.000000</td>\n",
       "      <td>2254.000000</td>\n",
       "      <td>...</td>\n",
       "      <td>235.490000</td>\n",
       "      <td>129.000000</td>\n",
       "      <td>1975.000000</td>\n",
       "      <td>83.000000</td>\n",
       "      <td>126.300000</td>\n",
       "      <td>38.110000</td>\n",
       "      <td>100.200000</td>\n",
       "      <td>2011.000000</td>\n",
       "      <td>1.350000e+06</td>\n",
       "      <td>1.800000e+06</td>\n",
       "    </tr>\n",
       "  </tbody>\n",
       "</table>\n",
       "<p>8 rows × 22 columns</p>\n",
       "</div>"
      ],
      "text/plain": [
       "           Sl.NO.         AGE        T-RUNS      T-WKTS    ODI-RUNS-S  \\\n",
       "count  130.000000  130.000000    130.000000  130.000000    130.000000   \n",
       "mean    65.500000    2.092308   2166.715385   66.530769   2508.738462   \n",
       "std     37.671829    0.576627   3305.646757  142.676855   3582.205625   \n",
       "min      1.000000    1.000000      0.000000    0.000000      0.000000   \n",
       "25%     33.250000    2.000000     25.500000    0.000000     73.250000   \n",
       "50%     65.500000    2.000000    542.500000    7.000000    835.000000   \n",
       "75%     97.750000    2.000000   3002.250000   47.500000   3523.500000   \n",
       "max    130.000000    3.000000  15470.000000  800.000000  18426.000000   \n",
       "\n",
       "         ODI-SR-B    ODI-WKTS   ODI-SR-BL  CAPTAINCY EXP       RUNS-S  ...  \\\n",
       "count  130.000000  130.000000  130.000000     130.000000   130.000000  ...   \n",
       "mean    71.164385   76.076923   34.033846       0.315385   514.246154  ...   \n",
       "std     25.898440  111.205070   26.751749       0.466466   615.226335  ...   \n",
       "min      0.000000    0.000000    0.000000       0.000000     0.000000  ...   \n",
       "25%     65.650000    0.000000    0.000000       0.000000    39.000000  ...   \n",
       "50%     78.225000   18.500000   36.600000       0.000000   172.000000  ...   \n",
       "75%     86.790000  106.000000   45.325000       1.000000   925.250000  ...   \n",
       "max    116.660000  534.000000  150.000000       1.000000  2254.000000  ...   \n",
       "\n",
       "             SR-B      SIXERS       RUNS-C        WKTS      AVE-BL  \\\n",
       "count  130.000000  130.000000   130.000000  130.000000  130.000000   \n",
       "mean   111.053462   17.692308   475.523077   17.169231   23.110231   \n",
       "std     35.928907   23.828146   558.314049   21.816763   20.802057   \n",
       "min      0.000000    0.000000     0.000000    0.000000    0.000000   \n",
       "25%     98.237500    1.000000     0.000000    0.000000    0.000000   \n",
       "50%    118.510000    6.000000   297.000000    8.500000   24.785000   \n",
       "75%    129.102500   29.750000   689.250000   23.750000   35.580000   \n",
       "max    235.490000  129.000000  1975.000000   83.000000  126.300000   \n",
       "\n",
       "             ECON       SR-BL  AUCTION YEAR    BASE PRICE    SOLD PRICE  \n",
       "count  130.000000  130.000000    130.000000  1.300000e+02  1.300000e+02  \n",
       "mean     6.204462   17.382615   2009.092308  1.922308e+05  5.212231e+05  \n",
       "std      4.941531   15.273422      1.377821  1.530973e+05  4.068074e+05  \n",
       "min      0.000000    0.000000   2008.000000  2.000000e+04  2.000000e+04  \n",
       "25%      0.000000    0.000000   2008.000000  1.000000e+05  2.250000e+05  \n",
       "50%      7.380000   19.935000   2008.000000  2.000000e+05  4.375000e+05  \n",
       "75%      8.247500   26.212500   2011.000000  2.250000e+05  7.000000e+05  \n",
       "max     38.110000  100.200000   2011.000000  1.350000e+06  1.800000e+06  \n",
       "\n",
       "[8 rows x 22 columns]"
      ]
     },
     "execution_count": 19,
     "metadata": {},
     "output_type": "execute_result"
    }
   ],
   "source": [
    "df.describe(include='number')"
   ]
  },
  {
   "cell_type": "markdown",
   "metadata": {},
   "source": [
    "### 5) Slicing and Indexing a dataframe\n",
    "### 6) Selecting Columns by Column Names (eg: PLAYER NAME)"
   ]
  },
  {
   "cell_type": "code",
   "execution_count": 20,
   "metadata": {},
   "outputs": [
    {
     "data": {
      "text/plain": [
       "0      Abdulla, YA\n",
       "1     Abdur Razzak\n",
       "2      Agarkar, AB\n",
       "3        Ashwin, R\n",
       "4     Badrinath, S\n",
       "5       Bailey, GJ\n",
       "6        Balaji, L\n",
       "7    Bollinger, DE\n",
       "8         Botha, J\n",
       "9      Boucher, MV\n",
       "Name: PLAYER NAME, dtype: object"
      ]
     },
     "execution_count": 20,
     "metadata": {},
     "output_type": "execute_result"
    }
   ],
   "source": [
    "df['PLAYER NAME'].head(10)"
   ]
  },
  {
   "cell_type": "markdown",
   "metadata": {},
   "source": [
    "### 7) Finding Unique Occurances of Values in Columns (eg: COUNTRY)"
   ]
  },
  {
   "cell_type": "code",
   "execution_count": 21,
   "metadata": {},
   "outputs": [
    {
     "data": {
      "text/plain": [
       "array(['SA', 'BAN', 'IND', 'AUS', 'WI', 'SL', 'NZ', 'ENG', 'PAK', 'ZIM'],\n",
       "      dtype=object)"
      ]
     },
     "execution_count": 21,
     "metadata": {},
     "output_type": "execute_result"
    }
   ],
   "source": [
    "df['COUNTRY'].unique()"
   ]
  },
  {
   "cell_type": "markdown",
   "metadata": {},
   "source": [
    "### 8) Cross-tabulation between two columns (eg: AGE & PLAYING ROLE)"
   ]
  },
  {
   "cell_type": "code",
   "execution_count": 22,
   "metadata": {},
   "outputs": [
    {
     "data": {
      "text/html": [
       "<div>\n",
       "<style scoped>\n",
       "    .dataframe tbody tr th:only-of-type {\n",
       "        vertical-align: middle;\n",
       "    }\n",
       "\n",
       "    .dataframe tbody tr th {\n",
       "        vertical-align: top;\n",
       "    }\n",
       "\n",
       "    .dataframe thead th {\n",
       "        text-align: right;\n",
       "    }\n",
       "</style>\n",
       "<table border=\"1\" class=\"dataframe\">\n",
       "  <thead>\n",
       "    <tr style=\"text-align: right;\">\n",
       "      <th>PLAYING ROLE</th>\n",
       "      <th>Allrounder</th>\n",
       "      <th>Batsman</th>\n",
       "      <th>Bowler</th>\n",
       "      <th>W. Keeper</th>\n",
       "    </tr>\n",
       "    <tr>\n",
       "      <th>AGE</th>\n",
       "      <th></th>\n",
       "      <th></th>\n",
       "      <th></th>\n",
       "      <th></th>\n",
       "    </tr>\n",
       "  </thead>\n",
       "  <tbody>\n",
       "    <tr>\n",
       "      <th>1</th>\n",
       "      <td>4</td>\n",
       "      <td>5</td>\n",
       "      <td>7</td>\n",
       "      <td>0</td>\n",
       "    </tr>\n",
       "    <tr>\n",
       "      <th>2</th>\n",
       "      <td>25</td>\n",
       "      <td>21</td>\n",
       "      <td>29</td>\n",
       "      <td>11</td>\n",
       "    </tr>\n",
       "    <tr>\n",
       "      <th>3</th>\n",
       "      <td>6</td>\n",
       "      <td>13</td>\n",
       "      <td>8</td>\n",
       "      <td>1</td>\n",
       "    </tr>\n",
       "  </tbody>\n",
       "</table>\n",
       "</div>"
      ],
      "text/plain": [
       "PLAYING ROLE  Allrounder  Batsman  Bowler  W. Keeper\n",
       "AGE                                                 \n",
       "1                      4        5       7          0\n",
       "2                     25       21      29         11\n",
       "3                      6       13       8          1"
      ]
     },
     "execution_count": 22,
     "metadata": {},
     "output_type": "execute_result"
    }
   ],
   "source": [
    "pd.crosstab(df['AGE'], df['PLAYING ROLE'])"
   ]
  },
  {
   "cell_type": "markdown",
   "metadata": {},
   "source": [
    "### 9) Sorting dataframe by column values (eg: SOLD PRICE)"
   ]
  },
  {
   "cell_type": "code",
   "execution_count": 23,
   "metadata": {},
   "outputs": [
    {
     "data": {
      "text/plain": [
       "73      20000\n",
       "46      24000\n",
       "0       50000\n",
       "1       50000\n",
       "118     50000\n",
       "5       50000\n",
       "85      50000\n",
       "34      50000\n",
       "61      80000\n",
       "78      95000\n",
       "104    100000\n",
       "102    100000\n",
       "100    100000\n",
       "90     100000\n",
       "63     100000\n",
       "58     100000\n",
       "129    110000\n",
       "109    125000\n",
       "53     140000\n",
       "45     150000\n",
       "40     150000\n",
       "20     150000\n",
       "21     150000\n",
       "115    150000\n",
       "89     160000\n",
       "Name: SOLD PRICE, dtype: int64"
      ]
     },
     "execution_count": 23,
     "metadata": {},
     "output_type": "execute_result"
    }
   ],
   "source": [
    "df['SOLD PRICE'].sort_values()[:25]"
   ]
  },
  {
   "cell_type": "code",
   "execution_count": 24,
   "metadata": {},
   "outputs": [
    {
     "data": {
      "text/plain": [
       "93     1800000\n",
       "127    1800000\n",
       "50     1800000\n",
       "111    1800000\n",
       "113    1600000\n",
       "83     1550000\n",
       "23     1550000\n",
       "15     1500000\n",
       "108    1350000\n",
       "110    1000000\n",
       "41      975000\n",
       "39      950000\n",
       "59      950000\n",
       "95      950000\n",
       "8       950000\n",
       "81      925000\n",
       "55      900000\n",
       "44      900000\n",
       "101     875000\n",
       "72      850000\n",
       "3       850000\n",
       "30      850000\n",
       "116     800000\n",
       "71      800000\n",
       "26      800000\n",
       "Name: SOLD PRICE, dtype: int64"
      ]
     },
     "execution_count": 24,
     "metadata": {},
     "output_type": "execute_result"
    }
   ],
   "source": [
    "df['SOLD PRICE'].sort_values(ascending=False)[:25]"
   ]
  },
  {
   "cell_type": "markdown",
   "metadata": {},
   "source": [
    "### 10) Which player got the maximum premium on the base price?"
   ]
  },
  {
   "cell_type": "code",
   "execution_count": 25,
   "metadata": {},
   "outputs": [
    {
     "data": {
      "text/plain": [
       "'Kohli, V'"
      ]
     },
     "execution_count": 25,
     "metadata": {},
     "output_type": "execute_result"
    }
   ],
   "source": [
    "df['Premium'] = df['SOLD PRICE'] - df['BASE PRICE']\n",
    "max_premium_player = df.loc[df['Premium'].idxmax(), 'PLAYER NAME']\n",
    "max_premium_player"
   ]
  },
  {
   "cell_type": "markdown",
   "metadata": {},
   "source": [
    "### 11) Which players got the maximum premium offering on their base price?"
   ]
  },
  {
   "cell_type": "code",
   "execution_count": 26,
   "metadata": {},
   "outputs": [
    {
     "data": {
      "text/html": [
       "<div>\n",
       "<style scoped>\n",
       "    .dataframe tbody tr th:only-of-type {\n",
       "        vertical-align: middle;\n",
       "    }\n",
       "\n",
       "    .dataframe tbody tr th {\n",
       "        vertical-align: top;\n",
       "    }\n",
       "\n",
       "    .dataframe thead th {\n",
       "        text-align: right;\n",
       "    }\n",
       "</style>\n",
       "<table border=\"1\" class=\"dataframe\">\n",
       "  <thead>\n",
       "    <tr style=\"text-align: right;\">\n",
       "      <th></th>\n",
       "      <th>PLAYER NAME</th>\n",
       "      <th>BASE PRICE</th>\n",
       "      <th>SOLD PRICE</th>\n",
       "      <th>Premium</th>\n",
       "    </tr>\n",
       "  </thead>\n",
       "  <tbody>\n",
       "    <tr>\n",
       "      <th>50</th>\n",
       "      <td>Kohli, V</td>\n",
       "      <td>150000</td>\n",
       "      <td>1800000</td>\n",
       "      <td>1650000</td>\n",
       "    </tr>\n",
       "  </tbody>\n",
       "</table>\n",
       "</div>"
      ],
      "text/plain": [
       "   PLAYER NAME  BASE PRICE  SOLD PRICE  Premium\n",
       "50    Kohli, V      150000     1800000  1650000"
      ]
     },
     "execution_count": 26,
     "metadata": {},
     "output_type": "execute_result"
    }
   ],
   "source": [
    "df['Premium'] = df['SOLD PRICE'] - df['BASE PRICE']\n",
    "max_premium = df['Premium'].max()\n",
    "players_with_max_premium = df[df['Premium'] == max_premium][['PLAYER NAME', 'BASE PRICE', 'SOLD PRICE', 'Premium']]\n",
    "players_with_max_premium"
   ]
  },
  {
   "cell_type": "markdown",
   "metadata": {},
   "source": [
    "### 12) What is the average SOLD PRICE for each age category?"
   ]
  },
  {
   "cell_type": "code",
   "execution_count": 27,
   "metadata": {},
   "outputs": [
    {
     "data": {
      "text/plain": [
       "AGE\n",
       "1    720250.000000\n",
       "2    484534.883721\n",
       "3    520178.571429\n",
       "Name: SOLD PRICE, dtype: float64"
      ]
     },
     "execution_count": 27,
     "metadata": {},
     "output_type": "execute_result"
    }
   ],
   "source": [
    "df.groupby('AGE')['SOLD PRICE'].mean()"
   ]
  },
  {
   "cell_type": "markdown",
   "metadata": {},
   "source": [
    "### 13) Average SOLD PRICE for Different Playing Roles in Each Age Category?"
   ]
  },
  {
   "cell_type": "code",
   "execution_count": 28,
   "metadata": {},
   "outputs": [
    {
     "data": {
      "text/plain": [
       "AGE  PLAYING ROLE\n",
       "1    Allrounder      5.875000e+05\n",
       "     Batsman         1.110000e+06\n",
       "     Bowler          5.177143e+05\n",
       "2    Allrounder      4.494000e+05\n",
       "     Batsman         6.547619e+05\n",
       "     Bowler          3.979310e+05\n",
       "     W. Keeper       4.677273e+05\n",
       "3    Allrounder      7.666667e+05\n",
       "     Batsman         4.576923e+05\n",
       "     Bowler          4.143750e+05\n",
       "     W. Keeper       7.000000e+05\n",
       "Name: SOLD PRICE, dtype: float64"
      ]
     },
     "execution_count": 28,
     "metadata": {},
     "output_type": "execute_result"
    }
   ],
   "source": [
    "df.groupby(['AGE', 'PLAYING ROLE'])['SOLD PRICE'].mean()"
   ]
  },
  {
   "cell_type": "code",
   "execution_count": null,
   "metadata": {},
   "outputs": [],
   "source": []
  }
 ],
 "metadata": {
  "kernelspec": {
   "display_name": "Python 3",
   "language": "python",
   "name": "python3"
  },
  "language_info": {
   "codemirror_mode": {
    "name": "ipython",
    "version": 3
   },
   "file_extension": ".py",
   "mimetype": "text/x-python",
   "name": "python",
   "nbconvert_exporter": "python",
   "pygments_lexer": "ipython3",
   "version": "3.10.5"
  }
 },
 "nbformat": 4,
 "nbformat_minor": 2
}
